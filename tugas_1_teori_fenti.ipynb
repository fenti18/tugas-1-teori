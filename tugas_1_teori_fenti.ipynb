{
  "nbformat": 4,
  "nbformat_minor": 0,
  "metadata": {
    "colab": {
      "provenance": []
    },
    "kernelspec": {
      "name": "python3",
      "display_name": "Python 3"
    },
    "language_info": {
      "name": "python"
    }
  },
  "cells": [
    {
      "cell_type": "markdown",
      "source": [
        "NAMA  : FENTI FERBIANTI S\n",
        "\n",
        "NIM   : 301220046\n",
        "\n",
        "PRODI : TEKNIK INFORMATIKA (5A)"
      ],
      "metadata": {
        "id": "MIeq6g3h8F3P"
      }
    },
    {
      "cell_type": "markdown",
      "source": [
        "**STUDI KASUS:** Simulasi kebiasaan penggunaan transportasi umum saat turun hujan.\n",
        "\n",
        "**Tentukan:**\n",
        "1. Matriks Transisinya!\n",
        "2. Tentukan probabilitas kejadian yang akan datang untuk jangka panjang!\n",
        "3. Kondisi seimbang/stabil (Steady State)\n",
        "\n",
        "**Penyelesaian:**\n",
        "\n",
        "Kita akan memodelkan kebiasaan seseorang dalam memilih untuk menggunakan atau tidak menggunakan transportasi umum pada hari-hari yang berbeda. Untuk itu, kita buat beberapa asumsi mengenai probabilitas transisi antara dua kondisi utama:\n",
        "\n",
        "1. **Menggunakan Transportasi Umum (U)**: Individu memilih menggunakan transportasi umum.\n",
        "2. **Tidak Menggunakan Transportasi Umum (T)**: Individu memilih untuk tidak menggunakan transportasi umum.\n",
        "\n",
        "**Probabilitas Transisi :**\n",
        "![Screenshot 2024-11-15 014421.png](data:image/png;base64,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)\n",
        "\n",
        "Dari matriks ini, dapat diartikan bahwa jika seseorang menggunakan transportasi umum hari ini, ada kemungkinan 70% bahwa ia akan menggunakan transportasi umum lagi esok harinya, dan 30% kemungkinan ia tidak akan menggunakannya. Sebaliknya, jika seseorang tidak menggunakan transportasi umum hari ini, ada kemungkinan 40% ia akan mulai menggunakannya esok harinya, dan 60% kemungkinan ia tidak akan menggunakannya.\n",
        "\n",
        "Implementasi dalam bahasa pemrograman Python:"
      ],
      "metadata": {
        "id": "GLzlzFBg8rba"
      }
    },
    {
      "cell_type": "code",
      "source": [
        "import numpy as np\n",
        "import pandas as pd\n",
        "import matplotlib.pyplot as plt"
      ],
      "metadata": {
        "id": "jh6BKqcLAPlq"
      },
      "execution_count": null,
      "outputs": []
    },
    {
      "cell_type": "markdown",
      "source": [
        "\n",
        "* numpy digunakan untuk komputasi matriks.\n",
        "* pandas digunakan untuk menyusun dan menampilkan tabel hasil simulasi.\n",
        "* matplotlib.pyplot digunakan untuk membuat grafik.\n",
        "\n",
        "\n",
        "\n"
      ],
      "metadata": {
        "id": "kg4m4xZnAo2V"
      }
    },
    {
      "cell_type": "code",
      "source": [
        "transition_matrix = np.array([\n",
        "    [0.7, 0.3],  # Dari Menggunakan Transportasi Umum (U)\n",
        "    [0.4, 0.6]   # Dari Tidak Menggunakan Transportasi Umum (T)\n",
        "])"
      ],
      "metadata": {
        "id": "8a0CvrmhBUlP"
      },
      "execution_count": null,
      "outputs": []
    },
    {
      "cell_type": "markdown",
      "source": [
        "* Matriks transisi menunjukkan probabilitas perubahan dari satu keadaan ke keadaan lain. Matriks ini memiliki dua keadaan:\n",
        "  * \"Menggunakan Transportasi Umum\" (U)\n",
        "  * \"Tidak Menggunakan Transportasi Umum\" (T)\n",
        "\n",
        "* Setiap baris dalam matriks menunjukkan probabilitas transisi dari suatu kondisi ke kondisi lain pada hari berikutnya. Misalnya, dari \"Menggunakan Transportasi Umum\" (baris pertama) terdapat:\n",
        "  * 0.7 peluang tetap \"Menggunakan Transportasi Umum\" keesokan harinya.\n",
        "  * 0.3 peluang berubah menjadi \"Tidak Menggunakan Transportasi Umum\"."
      ],
      "metadata": {
        "id": "Q5c8hOz_BbGU"
      }
    },
    {
      "cell_type": "code",
      "source": [
        "states = [\"Menggunakan Transportasi Umum\", \"Tidak Menggunakan Transportasi Umum\"]"
      ],
      "metadata": {
        "id": "lcTEvCOLB4MX"
      },
      "execution_count": null,
      "outputs": []
    },
    {
      "cell_type": "markdown",
      "source": [
        "* states berisi nama-nama dari kondisi yang mungkin terjadi, digunakan untuk memberi label pada hasil."
      ],
      "metadata": {
        "id": "ldgWsMTJB8lC"
      }
    },
    {
      "cell_type": "code",
      "source": [
        "initial_state = np.array([1, 0])  # Misal mulai dari \"Menggunakan Transportasi Umum\""
      ],
      "metadata": {
        "id": "pvfbAqRdCnrv"
      },
      "execution_count": null,
      "outputs": []
    },
    {
      "cell_type": "markdown",
      "source": [
        "* initial_state menunjukkan kondisi awal seseorang. Di sini, diasumsikan bahwa individu mulai dalam keadaan \"Menggunakan Transportasi Umum\" dengan distribusi probabilitas [1, 0], yang berarti probabilitas 100% berada dalam kondisi \"Menggunakan Transportasi Umum\" pada hari pertama."
      ],
      "metadata": {
        "id": "FSQaiepZCuP-"
      }
    },
    {
      "cell_type": "code",
      "source": [
        "days = 7\n",
        "state_distribution = [initial_state]\n",
        "\n",
        "for _ in range(days):\n",
        "    next_state = np.dot(state_distribution[-1], transition_matrix)\n",
        "    state_distribution.append(next_state)\n",
        "\n",
        "state_distribution = np.array(state_distribution)"
      ],
      "metadata": {
        "id": "dF12iepOC83G"
      },
      "execution_count": null,
      "outputs": []
    },
    {
      "cell_type": "markdown",
      "source": [
        "* days menentukan jumlah hari untuk simulasi (7 hari).\n",
        "* state_distribution menyimpan distribusi probabilitas dari setiap hari.\n",
        "* for loop melakukan perhitungan distribusi probabilitas untuk hari berikutnya menggunakan perkalian matriks (np.dot), dan menambahkan hasilnya ke state_distribution.\n",
        "* Di akhir loop, state_distribution berisi distribusi probabilitas dari kondisi setiap hari selama periode simulasi."
      ],
      "metadata": {
        "id": "pOY5dMJiDEBo"
      }
    },
    {
      "cell_type": "code",
      "source": [
        "eig_vals, eig_vecs = np.linalg.eig(transition_matrix.T)\n",
        "steady_state = eig_vecs[:, np.isclose(eig_vals, 1)].real\n",
        "steady_state /= steady_state.sum()"
      ],
      "metadata": {
        "id": "XHvQguK6DXW9"
      },
      "execution_count": null,
      "outputs": []
    },
    {
      "cell_type": "markdown",
      "source": [
        "* Kondisi seimbang atau steady state adalah distribusi probabilitas jangka panjang yang stabil.\n",
        "* np.linalg.eig digunakan untuk menghitung nilai eigen dan vektor eigen dari matriks transisi yang ditranspos (transition_matrix.T). Kondisi steady state terjadi pada eigenvektor yang sesuai dengan nilai eigen 1.\n",
        "* Distribusi steady state kemudian dinormalisasi sehingga jumlahnya menjadi 1."
      ],
      "metadata": {
        "id": "dkiPAcVjDk0B"
      }
    },
    {
      "cell_type": "code",
      "source": [
        "df = pd.DataFrame(state_distribution, columns=states)\n",
        "print(\"Distribusi Kebiasaan Penggunaan Transportasi Umum per Hari:\")\n",
        "display(df.head(days))"
      ],
      "metadata": {
        "colab": {
          "base_uri": "https://localhost:8080/",
          "height": 286
        },
        "id": "Z4EMSi8BDx6X",
        "outputId": "ef39327f-0b11-4489-9224-f61a56dd546f"
      },
      "execution_count": null,
      "outputs": [
        {
          "output_type": "stream",
          "name": "stdout",
          "text": [
            "Distribusi Kebiasaan Penggunaan Transportasi Umum per Hari:\n"
          ]
        },
        {
          "output_type": "display_data",
          "data": {
            "text/plain": [
              "   Menggunakan Transportasi Umum  Tidak Menggunakan Transportasi Umum\n",
              "0                       1.000000                             0.000000\n",
              "1                       0.700000                             0.300000\n",
              "2                       0.610000                             0.390000\n",
              "3                       0.583000                             0.417000\n",
              "4                       0.574900                             0.425100\n",
              "5                       0.572470                             0.427530\n",
              "6                       0.571741                             0.428259"
            ],
            "text/html": [
              "\n",
              "  <div id=\"df-65275784-3b4b-45d6-8728-a115e6a00ce8\" class=\"colab-df-container\">\n",
              "    <div>\n",
              "<style scoped>\n",
              "    .dataframe tbody tr th:only-of-type {\n",
              "        vertical-align: middle;\n",
              "    }\n",
              "\n",
              "    .dataframe tbody tr th {\n",
              "        vertical-align: top;\n",
              "    }\n",
              "\n",
              "    .dataframe thead th {\n",
              "        text-align: right;\n",
              "    }\n",
              "</style>\n",
              "<table border=\"1\" class=\"dataframe\">\n",
              "  <thead>\n",
              "    <tr style=\"text-align: right;\">\n",
              "      <th></th>\n",
              "      <th>Menggunakan Transportasi Umum</th>\n",
              "      <th>Tidak Menggunakan Transportasi Umum</th>\n",
              "    </tr>\n",
              "  </thead>\n",
              "  <tbody>\n",
              "    <tr>\n",
              "      <th>0</th>\n",
              "      <td>1.000000</td>\n",
              "      <td>0.000000</td>\n",
              "    </tr>\n",
              "    <tr>\n",
              "      <th>1</th>\n",
              "      <td>0.700000</td>\n",
              "      <td>0.300000</td>\n",
              "    </tr>\n",
              "    <tr>\n",
              "      <th>2</th>\n",
              "      <td>0.610000</td>\n",
              "      <td>0.390000</td>\n",
              "    </tr>\n",
              "    <tr>\n",
              "      <th>3</th>\n",
              "      <td>0.583000</td>\n",
              "      <td>0.417000</td>\n",
              "    </tr>\n",
              "    <tr>\n",
              "      <th>4</th>\n",
              "      <td>0.574900</td>\n",
              "      <td>0.425100</td>\n",
              "    </tr>\n",
              "    <tr>\n",
              "      <th>5</th>\n",
              "      <td>0.572470</td>\n",
              "      <td>0.427530</td>\n",
              "    </tr>\n",
              "    <tr>\n",
              "      <th>6</th>\n",
              "      <td>0.571741</td>\n",
              "      <td>0.428259</td>\n",
              "    </tr>\n",
              "  </tbody>\n",
              "</table>\n",
              "</div>\n",
              "    <div class=\"colab-df-buttons\">\n",
              "\n",
              "  <div class=\"colab-df-container\">\n",
              "    <button class=\"colab-df-convert\" onclick=\"convertToInteractive('df-65275784-3b4b-45d6-8728-a115e6a00ce8')\"\n",
              "            title=\"Convert this dataframe to an interactive table.\"\n",
              "            style=\"display:none;\">\n",
              "\n",
              "  <svg xmlns=\"http://www.w3.org/2000/svg\" height=\"24px\" viewBox=\"0 -960 960 960\">\n",
              "    <path d=\"M120-120v-720h720v720H120Zm60-500h600v-160H180v160Zm220 220h160v-160H400v160Zm0 220h160v-160H400v160ZM180-400h160v-160H180v160Zm440 0h160v-160H620v160ZM180-180h160v-160H180v160Zm440 0h160v-160H620v160Z\"/>\n",
              "  </svg>\n",
              "    </button>\n",
              "\n",
              "  <style>\n",
              "    .colab-df-container {\n",
              "      display:flex;\n",
              "      gap: 12px;\n",
              "    }\n",
              "\n",
              "    .colab-df-convert {\n",
              "      background-color: #E8F0FE;\n",
              "      border: none;\n",
              "      border-radius: 50%;\n",
              "      cursor: pointer;\n",
              "      display: none;\n",
              "      fill: #1967D2;\n",
              "      height: 32px;\n",
              "      padding: 0 0 0 0;\n",
              "      width: 32px;\n",
              "    }\n",
              "\n",
              "    .colab-df-convert:hover {\n",
              "      background-color: #E2EBFA;\n",
              "      box-shadow: 0px 1px 2px rgba(60, 64, 67, 0.3), 0px 1px 3px 1px rgba(60, 64, 67, 0.15);\n",
              "      fill: #174EA6;\n",
              "    }\n",
              "\n",
              "    .colab-df-buttons div {\n",
              "      margin-bottom: 4px;\n",
              "    }\n",
              "\n",
              "    [theme=dark] .colab-df-convert {\n",
              "      background-color: #3B4455;\n",
              "      fill: #D2E3FC;\n",
              "    }\n",
              "\n",
              "    [theme=dark] .colab-df-convert:hover {\n",
              "      background-color: #434B5C;\n",
              "      box-shadow: 0px 1px 3px 1px rgba(0, 0, 0, 0.15);\n",
              "      filter: drop-shadow(0px 1px 2px rgba(0, 0, 0, 0.3));\n",
              "      fill: #FFFFFF;\n",
              "    }\n",
              "  </style>\n",
              "\n",
              "    <script>\n",
              "      const buttonEl =\n",
              "        document.querySelector('#df-65275784-3b4b-45d6-8728-a115e6a00ce8 button.colab-df-convert');\n",
              "      buttonEl.style.display =\n",
              "        google.colab.kernel.accessAllowed ? 'block' : 'none';\n",
              "\n",
              "      async function convertToInteractive(key) {\n",
              "        const element = document.querySelector('#df-65275784-3b4b-45d6-8728-a115e6a00ce8');\n",
              "        const dataTable =\n",
              "          await google.colab.kernel.invokeFunction('convertToInteractive',\n",
              "                                                    [key], {});\n",
              "        if (!dataTable) return;\n",
              "\n",
              "        const docLinkHtml = 'Like what you see? Visit the ' +\n",
              "          '<a target=\"_blank\" href=https://colab.research.google.com/notebooks/data_table.ipynb>data table notebook</a>'\n",
              "          + ' to learn more about interactive tables.';\n",
              "        element.innerHTML = '';\n",
              "        dataTable['output_type'] = 'display_data';\n",
              "        await google.colab.output.renderOutput(dataTable, element);\n",
              "        const docLink = document.createElement('div');\n",
              "        docLink.innerHTML = docLinkHtml;\n",
              "        element.appendChild(docLink);\n",
              "      }\n",
              "    </script>\n",
              "  </div>\n",
              "\n",
              "\n",
              "<div id=\"df-08a2e4a1-6040-4b0b-a658-9267b3658793\">\n",
              "  <button class=\"colab-df-quickchart\" onclick=\"quickchart('df-08a2e4a1-6040-4b0b-a658-9267b3658793')\"\n",
              "            title=\"Suggest charts\"\n",
              "            style=\"display:none;\">\n",
              "\n",
              "<svg xmlns=\"http://www.w3.org/2000/svg\" height=\"24px\"viewBox=\"0 0 24 24\"\n",
              "     width=\"24px\">\n",
              "    <g>\n",
              "        <path d=\"M19 3H5c-1.1 0-2 .9-2 2v14c0 1.1.9 2 2 2h14c1.1 0 2-.9 2-2V5c0-1.1-.9-2-2-2zM9 17H7v-7h2v7zm4 0h-2V7h2v10zm4 0h-2v-4h2v4z\"/>\n",
              "    </g>\n",
              "</svg>\n",
              "  </button>\n",
              "\n",
              "<style>\n",
              "  .colab-df-quickchart {\n",
              "      --bg-color: #E8F0FE;\n",
              "      --fill-color: #1967D2;\n",
              "      --hover-bg-color: #E2EBFA;\n",
              "      --hover-fill-color: #174EA6;\n",
              "      --disabled-fill-color: #AAA;\n",
              "      --disabled-bg-color: #DDD;\n",
              "  }\n",
              "\n",
              "  [theme=dark] .colab-df-quickchart {\n",
              "      --bg-color: #3B4455;\n",
              "      --fill-color: #D2E3FC;\n",
              "      --hover-bg-color: #434B5C;\n",
              "      --hover-fill-color: #FFFFFF;\n",
              "      --disabled-bg-color: #3B4455;\n",
              "      --disabled-fill-color: #666;\n",
              "  }\n",
              "\n",
              "  .colab-df-quickchart {\n",
              "    background-color: var(--bg-color);\n",
              "    border: none;\n",
              "    border-radius: 50%;\n",
              "    cursor: pointer;\n",
              "    display: none;\n",
              "    fill: var(--fill-color);\n",
              "    height: 32px;\n",
              "    padding: 0;\n",
              "    width: 32px;\n",
              "  }\n",
              "\n",
              "  .colab-df-quickchart:hover {\n",
              "    background-color: var(--hover-bg-color);\n",
              "    box-shadow: 0 1px 2px rgba(60, 64, 67, 0.3), 0 1px 3px 1px rgba(60, 64, 67, 0.15);\n",
              "    fill: var(--button-hover-fill-color);\n",
              "  }\n",
              "\n",
              "  .colab-df-quickchart-complete:disabled,\n",
              "  .colab-df-quickchart-complete:disabled:hover {\n",
              "    background-color: var(--disabled-bg-color);\n",
              "    fill: var(--disabled-fill-color);\n",
              "    box-shadow: none;\n",
              "  }\n",
              "\n",
              "  .colab-df-spinner {\n",
              "    border: 2px solid var(--fill-color);\n",
              "    border-color: transparent;\n",
              "    border-bottom-color: var(--fill-color);\n",
              "    animation:\n",
              "      spin 1s steps(1) infinite;\n",
              "  }\n",
              "\n",
              "  @keyframes spin {\n",
              "    0% {\n",
              "      border-color: transparent;\n",
              "      border-bottom-color: var(--fill-color);\n",
              "      border-left-color: var(--fill-color);\n",
              "    }\n",
              "    20% {\n",
              "      border-color: transparent;\n",
              "      border-left-color: var(--fill-color);\n",
              "      border-top-color: var(--fill-color);\n",
              "    }\n",
              "    30% {\n",
              "      border-color: transparent;\n",
              "      border-left-color: var(--fill-color);\n",
              "      border-top-color: var(--fill-color);\n",
              "      border-right-color: var(--fill-color);\n",
              "    }\n",
              "    40% {\n",
              "      border-color: transparent;\n",
              "      border-right-color: var(--fill-color);\n",
              "      border-top-color: var(--fill-color);\n",
              "    }\n",
              "    60% {\n",
              "      border-color: transparent;\n",
              "      border-right-color: var(--fill-color);\n",
              "    }\n",
              "    80% {\n",
              "      border-color: transparent;\n",
              "      border-right-color: var(--fill-color);\n",
              "      border-bottom-color: var(--fill-color);\n",
              "    }\n",
              "    90% {\n",
              "      border-color: transparent;\n",
              "      border-bottom-color: var(--fill-color);\n",
              "    }\n",
              "  }\n",
              "</style>\n",
              "\n",
              "  <script>\n",
              "    async function quickchart(key) {\n",
              "      const quickchartButtonEl =\n",
              "        document.querySelector('#' + key + ' button');\n",
              "      quickchartButtonEl.disabled = true;  // To prevent multiple clicks.\n",
              "      quickchartButtonEl.classList.add('colab-df-spinner');\n",
              "      try {\n",
              "        const charts = await google.colab.kernel.invokeFunction(\n",
              "            'suggestCharts', [key], {});\n",
              "      } catch (error) {\n",
              "        console.error('Error during call to suggestCharts:', error);\n",
              "      }\n",
              "      quickchartButtonEl.classList.remove('colab-df-spinner');\n",
              "      quickchartButtonEl.classList.add('colab-df-quickchart-complete');\n",
              "    }\n",
              "    (() => {\n",
              "      let quickchartButtonEl =\n",
              "        document.querySelector('#df-08a2e4a1-6040-4b0b-a658-9267b3658793 button');\n",
              "      quickchartButtonEl.style.display =\n",
              "        google.colab.kernel.accessAllowed ? 'block' : 'none';\n",
              "    })();\n",
              "  </script>\n",
              "</div>\n",
              "\n",
              "    </div>\n",
              "  </div>\n"
            ],
            "application/vnd.google.colaboratory.intrinsic+json": {
              "type": "dataframe",
              "summary": "{\n  \"name\": \"display(df\",\n  \"rows\": 7,\n  \"fields\": [\n    {\n      \"column\": \"Menggunakan Transportasi Umum\",\n      \"properties\": {\n        \"dtype\": \"number\",\n        \"std\": 0.1572223855339945,\n        \"min\": 0.5717409999999999,\n        \"max\": 1.0,\n        \"num_unique_values\": 7,\n        \"samples\": [\n          1.0,\n          0.7,\n          0.5724699999999999\n        ],\n        \"semantic_type\": \"\",\n        \"description\": \"\"\n      }\n    },\n    {\n      \"column\": \"Tidak Menggunakan Transportasi Umum\",\n      \"properties\": {\n        \"dtype\": \"number\",\n        \"std\": 0.15722238553399448,\n        \"min\": 0.0,\n        \"max\": 0.42825899999999995,\n        \"num_unique_values\": 7,\n        \"samples\": [\n          0.0,\n          0.3,\n          0.42752999999999997\n        ],\n        \"semantic_type\": \"\",\n        \"description\": \"\"\n      }\n    }\n  ]\n}"
            }
          },
          "metadata": {}
        }
      ]
    },
    {
      "cell_type": "markdown",
      "source": [
        "* df adalah tabel pandas yang berisi distribusi probabilitas untuk setiap kondisi setiap hari.\n",
        "* display(df.head(days)) menampilkan tabel probabilitas dari hari ke hari selama periode simulasi.\n",
        "\n",
        "**Perhitungan Probabilitas:**\n",
        "\n",
        "matriks transisi yang digunakan adalah sebagai berikut:\n",
        "\n",
        "  *transition_matrix* = [0.7 0.3 0.4 0.6]\n",
        "\n",
        "* Kolom pertama (0.7, 0.4) mewakili probabilitas tetap atau berpindah ke **\"Menggunakan Transportasi Umum\".**\n",
        "* Kolom kedua (0.3, 0.6) mewakili probabilitas tetap atau berpindah ke **\"Tidak Menggunakan Transportasi Umum\".**\n",
        "\n",
        "Misalkan kita mulai dari kondisi awal:\n",
        "\n",
        "  *initial_state*=[1,0]\n",
        "\n",
        "Artinya, probabilitas awal (Hari 0) adalah 100% di \"Menggunakan Transportasi Umum\" dan 0% di \"Tidak Menggunakan Transportasi Umum\".\n",
        "\n",
        "**perhitungan Hari ke Hari**\n",
        "\n",
        "Hari 1\n",
        "Dari kondisi awal:\n",
        "\n",
        "    Hari 0 = [1,0]\n",
        "\n",
        "Probabilitas pada Hari 1 dihitung sebagai berikut:\n",
        "\n",
        "    Hari 1 = Hari 0 × transition_matrix\n",
        "\n",
        "           = [1,0] × [0.7 0.4 0.3 0.6]\n",
        "\n",
        "Langkah perhitungannya adalah sebagai berikut:\n",
        "\n",
        "Untuk probabilitas \"Menggunakan Transportasi Umum\" pada Hari 1:\n",
        "\n",
        "    (1 × 0.7) + (0 × 0.4) = 0.7\n",
        "\n",
        "Untuk probabilitas \"Tidak Menggunakan Transportasi Umum\" pada Hari 1:\n",
        "\n",
        "    (1 × 0.3) + (0 × 0.6) = 0.3\n",
        "\n",
        "Sehingga, hasil probabilitas distribusi pada Hari 1 adalah:\n",
        "\n",
        "    Hari 1 = [0.7, 0.3]\n",
        "\n",
        "Hari 2 (dan seterusnya)\n",
        "\n",
        "Menggunakan hasil pada Hari 1 sebagai probabilitas awal untuk Hari 2:\n",
        "\n",
        "    Hari 2 = [0.7, 0.3] × transition_matrix\n",
        "\n",
        "           = [0.7, 0.3] × [ 0.7 0.4 0.3 0.6]\n",
        "\n",
        "Langkah perhitungannya adalah sebagai berikut:\n",
        "\n",
        "Untuk probabilitas \"Menggunakan Transportasi Umum\" pada Hari 2:\n",
        "\n",
        "    (0.7 × 0.7) + (0.3 × 0.4) = 0.49 + 0.12 = 0.61\n",
        "\n",
        "Untuk probabilitas \"Tidak Menggunakan Transportasi Umum\" pada Hari 2:\n",
        "\n",
        "    (0.7 × 0.3) + (0.3 × 0.6) = 0.21 + 0.18 = 0.39\n",
        "\n",
        "Jadi, distribusi probabilitas pada Hari 2 adalah:\n",
        "\n",
        "    Hari 2 = [0.61, 0.39]\n",
        "\n",
        "Ulangi perhitungan ini sampai pada hari ke 7."
      ],
      "metadata": {
        "id": "38lpZiCuD2BK"
      }
    },
    {
      "cell_type": "code",
      "source": [
        "plt.figure(figsize=(12, 6))\n",
        "for i, state in enumerate(states):\n",
        "    plt.plot(df.index, df[state], label=state)\n",
        "plt.xlabel(\"Hari\")\n",
        "plt.ylabel(\"Probabilitas\")\n",
        "plt.title(\"Distribusi Probabilitas Kebiasaan Penggunaan Transportasi Umum per Hari\")\n",
        "plt.legend()\n",
        "plt.grid()\n",
        "plt.show()"
      ],
      "metadata": {
        "colab": {
          "base_uri": "https://localhost:8080/",
          "height": 564
        },
        "id": "mWftxfxREHiq",
        "outputId": "120b281c-9ec2-4e95-e985-27fe53292f19"
      },
      "execution_count": null,
      "outputs": [
        {
          "output_type": "display_data",
          "data": {
            "text/plain": [
              "<Figure size 1200x600 with 1 Axes>"
            ],
            "image/png": "[encoded data removed]"
          },
          "metadata": {}
        }
      ]
    },
    {
      "cell_type": "markdown",
      "source": [
        "* Membuat grafik garis untuk menunjukkan perubahan distribusi probabilitas dari masing-masing kondisi (\"Menggunakan Transportasi Umum\" dan \"Tidak Menggunakan Transportasi Umum\") setiap hari.\n",
        "* Grafik ini membantu melihat bagaimana distribusi probabilitas berubah dari waktu ke waktu dan mendekati steady state."
      ],
      "metadata": {
        "id": "UC7kbX3fEJ6x"
      }
    },
    {
      "cell_type": "code",
      "source": [
        "print(\"Distribusi Steady State:\", steady_state.ravel())\n",
        "plt.figure(figsize=(8, 6))\n",
        "plt.bar(states, steady_state.ravel())\n",
        "plt.title(\"Distribusi Kondisi Seimbang (Steady State)\")\n",
        "plt.ylabel(\"Probabilitas\")\n",
        "plt.show()"
      ],
      "metadata": {
        "colab": {
          "base_uri": "https://localhost:8080/",
          "height": 562
        },
        "id": "Hm-ReYuREWIp",
        "outputId": "0e7ea01e-e310-42fe-abee-459ece45983d"
      },
      "execution_count": null,
      "outputs": [
        {
          "output_type": "stream",
          "name": "stdout",
          "text": [
            "Distribusi Steady State: [0.57142857 0.42857143]\n"
          ]
        },
        {
          "output_type": "display_data",
          "data": {
            "text/plain": [
              "<Figure size 800x600 with 1 Axes>"
            ],
            "image/png": "[encoded data removed]"
          },
          "metadata": {}
        }
      ]
    },
    {
      "cell_type": "markdown",
      "source": [
        "* steady_state.ravel() digunakan untuk menampilkan distribusi steady state dalam bentuk array satu dimensi.\n",
        "* Grafik batang menunjukkan distribusi probabilitas yang stabil dari setiap kondisi. Ini adalah probabilitas jangka panjang yang akan tercapai setelah cukup banyak iterasi.\n",
        "\n",
        "**Kesimpulan dari Kode dan Grafik**\n",
        "1. **Tabel Distribusi Probabilitas:** Tabel ini menunjukkan perubahan probabilitas untuk setiap kondisi setiap hari.\n",
        "2. **Grafik Perkembangan Distribusi Tiap Hari:** Grafik ini menunjukkan perubahan probabilitas untuk masing-masing kondisi selama beberapa hari.\n",
        "3. **Grafik Kondisi Seimbang (Steady State):** Grafik batang ini menunjukkan distribusi probabilitas dalam jangka panjang, di mana perubahan berhenti dan probabilitas stabil.\n",
        "\n",
        "Setelah simulasi, grafik steady state menunjukkan bahwa setelah banyak iterasi, distribusi probabilitas dari setiap kondisi stabil.\n",
        "\n",
        "\n",
        "\n",
        "\n",
        "\n",
        "\n",
        "\n",
        "\n"
      ],
      "metadata": {
        "id": "Og2TZbgnEcSH"
      }
    }
  ]
}